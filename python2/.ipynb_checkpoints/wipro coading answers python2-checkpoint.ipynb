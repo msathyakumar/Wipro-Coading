{
 "cells": [
  {
   "cell_type": "markdown",
   "metadata": {},
   "source": [
    "# printing values based on given index range"
   ]
  },
  {
   "cell_type": "code",
   "execution_count": null,
   "metadata": {},
   "outputs": [],
   "source": [
    "a = raw_input().split(\" \")\n",
    "b = raw_input().split(\" \")\n",
    "a1=[]\n",
    "b1=[]\n",
    "for i in a:\n",
    "    a1.append(int(i))\n",
    "for j in b:\n",
    "    b1.append(int(j))\n",
    "x,y=b1[0],b1[1]\n",
    "c=[]\n",
    "d=[]\n",
    "for i in range(len(a)):\n",
    "    if i<x:\n",
    "        c.append(a1[i])\n",
    "    else:\n",
    "        d.append(a1[i])\n",
    "d.reverse()\n",
    "c.extend(d)\n",
    "for i in c:\n",
    "    print i,\n",
    "        \n",
    "\n"
   ]
  },
  {
   "cell_type": "markdown",
   "metadata": {},
   "source": [
    "# sum of prime number in a given integer"
   ]
  },
  {
   "cell_type": "code",
   "execution_count": null,
   "metadata": {},
   "outputs": [],
   "source": [
    "a = raw_input()\n",
    "li=[]\n",
    "for i in a:\n",
    "    li.append(int(i))\n",
    "s=0\n",
    "def prime(n):\n",
    "    flag=0\n",
    "    \n",
    "    for i in range(2,n):\n",
    "        if n%i==0:\n",
    "            flag=1\n",
    "            break\n",
    "            \n",
    "    if flag==0:\n",
    "        return 1\n",
    "    else:\n",
    "        return 0\n",
    "for i in li:\n",
    "    if prime(i)==1:\n",
    "        s+=i\n",
    "print s"
   ]
  },
  {
   "cell_type": "code",
   "execution_count": null,
   "metadata": {},
   "outputs": [],
   "source": []
  },
  {
   "cell_type": "markdown",
   "metadata": {},
   "source": [
    "# find number of digits in a given string"
   ]
  },
  {
   "cell_type": "code",
   "execution_count": null,
   "metadata": {},
   "outputs": [],
   "source": [
    "a = raw_input()\n",
    "count =0\n",
    "for i in a:\n",
    "    if i.isdigit()==True:\n",
    "        count +=1\n",
    "print count"
   ]
  },
  {
   "cell_type": "code",
   "execution_count": null,
   "metadata": {},
   "outputs": [],
   "source": []
  },
  {
   "cell_type": "markdown",
   "metadata": {},
   "source": [
    "# sum of largest and second largest number in a given array"
   ]
  },
  {
   "cell_type": "code",
   "execution_count": null,
   "metadata": {},
   "outputs": [],
   "source": [
    "ar=raw_input().split(\" \")\n",
    "\n",
    "l=[]\n",
    "for i in ar:\n",
    "    l.append(int(i))\n",
    "l.sort(reverse=False)\n",
    "sum1 = l[-1]+l[-2]\n",
    "print sum1"
   ]
  },
  {
   "cell_type": "code",
   "execution_count": null,
   "metadata": {},
   "outputs": [],
   "source": []
  },
  {
   "cell_type": "markdown",
   "metadata": {},
   "source": [
    "# changed the sequence for first index to n"
   ]
  },
  {
   "cell_type": "code",
   "execution_count": null,
   "metadata": {},
   "outputs": [],
   "source": [
    "n = input()\n",
    "a = raw_input().split(\" \")\n",
    "b = raw_input().split(\" \")\n",
    "a1,b1=[],[]\n",
    "for i in a:\n",
    "    a1.append(int(i))\n",
    "for j in b:\n",
    "    b1.append(int(j))\n",
    "x,y,c,d=b1[0],b1[1],[],[]\n",
    "\n",
    "for i in range(len(a)):\n",
    "    if i<x:\n",
    "        c.append(a1[i])\n",
    "    else:\n",
    "        d.append(a1[i])\n",
    "d.reverse()\n",
    "c.extend(d)\n",
    "for i in c:\n",
    "    print i,\n",
    "        "
   ]
  },
  {
   "cell_type": "markdown",
   "metadata": {},
   "source": [
    "# Pairs of minimum and maximum jars"
   ]
  },
  {
   "cell_type": "code",
   "execution_count": null,
   "metadata": {},
   "outputs": [],
   "source": [
    "n = input()\n",
    "li =[]\n",
    "k = raw_input().split(\" \")\n",
    "for i in k:\n",
    "    li.append(int(i))\n",
    "l=[]\n",
    "l.extend(li)\n",
    "fi =[]\n",
    "for i in l:\n",
    "    p =[]\n",
    "    x = max(l)\n",
    "    p.append(x)\n",
    "    l.remove(x)\n",
    "    y = min(l)\n",
    "    p.append(y)\n",
    "    l.remove(y)\n",
    "    fi.append(p)\n",
    "    \n",
    "for i in fi:\n",
    "    for j in i:\n",
    "        print j,\n",
    "    print\n",
    "print max(l),min(l)\n"
   ]
  },
  {
   "cell_type": "markdown",
   "metadata": {},
   "source": [
    "# Sum of Last two numbers"
   ]
  },
  {
   "cell_type": "code",
   "execution_count": null,
   "metadata": {},
   "outputs": [],
   "source": [
    "ar=raw_input().split(\" \")\n",
    "\n",
    "l=[]\n",
    "for i in ar:\n",
    "    l.append(int(i))\n",
    "l.sort(reverse=False)\n",
    "sum1 = l[-1]+l[-2]\n",
    "print sum1"
   ]
  },
  {
   "cell_type": "markdown",
   "metadata": {},
   "source": [
    "# Print out string representing the encrypted data"
   ]
  },
  {
   "cell_type": "code",
   "execution_count": null,
   "metadata": {},
   "outputs": [],
   "source": [
    "n=input()\n",
    "st=raw_input()\n",
    "c=\"\"\n",
    "for i in st:\n",
    "    c+=chr(ord(i)+n)\n",
    "print(c)"
   ]
  },
  {
   "cell_type": "code",
   "execution_count": null,
   "metadata": {},
   "outputs": [],
   "source": []
  },
  {
   "cell_type": "markdown",
   "metadata": {},
   "source": [
    "# printing number of special characters in a given string"
   ]
  },
  {
   "cell_type": "code",
   "execution_count": null,
   "metadata": {},
   "outputs": [],
   "source": [
    "s = raw_input()\n",
    "count =0\n",
    "for i in s:\n",
    "    if (not(i.isalnum()) and not(i==\" \")):\n",
    "        count +=1\n",
    "print count"
   ]
  },
  {
   "cell_type": "code",
   "execution_count": null,
   "metadata": {},
   "outputs": [],
   "source": []
  },
  {
   "cell_type": "markdown",
   "metadata": {},
   "source": [
    "# printing sum of smallest and largest number in a given array"
   ]
  },
  {
   "cell_type": "code",
   "execution_count": null,
   "metadata": {},
   "outputs": [],
   "source": [
    "i = input()\n",
    "n =raw_input().split(\" \")\n",
    "a = [int(i) for i in n]\n",
    "a.sort(reverse=False)\n",
    "b =a[0]+a[-1]\n",
    "print b"
   ]
  },
  {
   "cell_type": "code",
   "execution_count": null,
   "metadata": {},
   "outputs": [],
   "source": []
  },
  {
   "cell_type": "markdown",
   "metadata": {},
   "source": [
    "# count vowel and consonant pair in a given string"
   ]
  },
  {
   "cell_type": "code",
   "execution_count": null,
   "metadata": {},
   "outputs": [],
   "source": [
    "a = raw_input()\n",
    "vo = \"aeiouAEIOU\"\n",
    "count = 0\n",
    "for i in range(len(a)-1):\n",
    "    if a[i+1]!=None:\n",
    "        if (a[i] in vo) and (a[i+1] not in vo):\n",
    "            count +=1\n",
    "print count\n",
    "        "
   ]
  },
  {
   "cell_type": "code",
   "execution_count": null,
   "metadata": {},
   "outputs": [],
   "source": []
  },
  {
   "cell_type": "markdown",
   "metadata": {},
   "source": [
    "# converting integer to characters"
   ]
  },
  {
   "cell_type": "code",
   "execution_count": null,
   "metadata": {},
   "outputs": [],
   "source": [
    "n = raw_input()\n",
    "b = [int(i) for i in n]\n",
    "d = \"\"\n",
    "for i in b:\n",
    "    d +=chr(97+i)\n",
    "print d"
   ]
  },
  {
   "cell_type": "code",
   "execution_count": null,
   "metadata": {},
   "outputs": [],
   "source": []
  },
  {
   "cell_type": "markdown",
   "metadata": {},
   "source": [
    "# printing sum of largest -(subtract) sum of second largest"
   ]
  },
  {
   "cell_type": "code",
   "execution_count": null,
   "metadata": {},
   "outputs": [],
   "source": [
    "n1,n2,n3 = raw_input().split()\n",
    "a = [int(i) for i in n1]\n",
    "b =[int(i) for i in n2]\n",
    "c = [int(i) for i in n3]\n",
    "a.sort(reverse=True)\n",
    "b.sort(reverse=True)\n",
    "c.sort(reverse=True)\n",
    "print a[0]+b[0]+c[0]-(a[1]+b[1]+c[1])"
   ]
  },
  {
   "cell_type": "code",
   "execution_count": null,
   "metadata": {},
   "outputs": [],
   "source": [
    "i=1"
   ]
  },
  {
   "cell_type": "code",
   "execution_count": null,
   "metadata": {},
   "outputs": [],
   "source": []
  },
  {
   "cell_type": "markdown",
   "metadata": {},
   "source": [
    "# Printing number of non repeated charcters in a given string"
   ]
  },
  {
   "cell_type": "code",
   "execution_count": null,
   "metadata": {},
   "outputs": [],
   "source": [
    "a = raw_input()\n",
    "dic ={}\n",
    "count =0\n",
    "for i in a:\n",
    "    if i in dic:\n",
    "        dic[i]+=1\n",
    "    else:\n",
    "        dic[i]=1\n",
    "for i in dic:\n",
    "    if dic[i]==1:\n",
    "        count +=1\n",
    "print count\n"
   ]
  },
  {
   "cell_type": "code",
   "execution_count": null,
   "metadata": {},
   "outputs": [],
   "source": []
  },
  {
   "cell_type": "markdown",
   "metadata": {},
   "source": [
    "# Printing number of non repeated words in a given sentence"
   ]
  },
  {
   "cell_type": "code",
   "execution_count": null,
   "metadata": {},
   "outputs": [],
   "source": [
    "a = raw_input().split()\n",
    "dic ={}\n",
    "count =0\n",
    "for i in a:\n",
    "    if i in dic:\n",
    "        dic[i]+=1\n",
    "    else:\n",
    "        dic[i]=1\n",
    "for i in dic:\n",
    "    if dic[i]==1:\n",
    "        count +=1\n",
    "print count"
   ]
  },
  {
   "cell_type": "code",
   "execution_count": null,
   "metadata": {},
   "outputs": [],
   "source": []
  },
  {
   "cell_type": "markdown",
   "metadata": {},
   "source": [
    "# Encript the given string by adding the asci of n to every element in a string"
   ]
  },
  {
   "cell_type": "code",
   "execution_count": null,
   "metadata": {},
   "outputs": [],
   "source": [
    "n = input()\n",
    "st = raw_input()\n",
    "c =\"\"\n",
    "for i in st:\n",
    "    c +=chr(ord(i)+n)\n",
    "print c"
   ]
  },
  {
   "cell_type": "code",
   "execution_count": null,
   "metadata": {},
   "outputs": [],
   "source": []
  },
  {
   "cell_type": "markdown",
   "metadata": {},
   "source": [
    "# sum of least and largest prime numbers in a given range"
   ]
  },
  {
   "cell_type": "code",
   "execution_count": null,
   "metadata": {},
   "outputs": [],
   "source": [
    "num = raw_input().split(\" \")\n",
    "l =[int(i) for i in num]\n",
    "lis =[]\n",
    "for i in range(l[0],l[1]+1):\n",
    "    flag=0\n",
    "    for j in range(2,i):\n",
    "        if i%j ==0:\n",
    "            flag =1\n",
    "            break\n",
    "        else:\n",
    "            flag =0\n",
    "    if flag==0:\n",
    "        lis.append(i)\n",
    "print abs(lis[0]+lis[-1])\n"
   ]
  },
  {
   "cell_type": "code",
   "execution_count": null,
   "metadata": {},
   "outputs": [],
   "source": []
  },
  {
   "cell_type": "markdown",
   "metadata": {},
   "source": [
    "# Printing number of distributions in a given number "
   ]
  },
  {
   "cell_type": "code",
   "execution_count": null,
   "metadata": {},
   "outputs": [],
   "source": [
    "n = input()\n",
    "i =0\n",
    "while n>0:\n",
    "    if n%2 ==0:\n",
    "        n=n/2\n",
    "        i +=1\n",
    "    else:\n",
    "        n =n-1\n",
    "        i+=1\n",
    "print i\n",
    "    "
   ]
  },
  {
   "cell_type": "code",
   "execution_count": null,
   "metadata": {},
   "outputs": [],
   "source": []
  },
  {
   "cell_type": "markdown",
   "metadata": {},
   "source": [
    "# Printing sum of even digits in a given number"
   ]
  },
  {
   "cell_type": "code",
   "execution_count": null,
   "metadata": {},
   "outputs": [],
   "source": [
    "n = raw_input()\n",
    "li = [int(i) for i in n]\n",
    "result = 0\n",
    "for i in li:\n",
    "    if i%2==0:\n",
    "        result +=i\n",
    "print result"
   ]
  },
  {
   "cell_type": "code",
   "execution_count": null,
   "metadata": {},
   "outputs": [],
   "source": []
  },
  {
   "cell_type": "markdown",
   "metadata": {},
   "source": [
    "# shifting the digits with given index"
   ]
  },
  {
   "cell_type": "code",
   "execution_count": null,
   "metadata": {},
   "outputs": [],
   "source": [
    "n,l = raw_input().split(\" \")\n",
    "l = int(l)\n",
    "l = l%len(n)\n",
    "a = n[l:]+n[0:l]\n",
    "print a"
   ]
  },
  {
   "cell_type": "code",
   "execution_count": null,
   "metadata": {},
   "outputs": [],
   "source": []
  },
  {
   "cell_type": "code",
   "execution_count": null,
   "metadata": {},
   "outputs": [],
   "source": []
  },
  {
   "cell_type": "code",
   "execution_count": null,
   "metadata": {},
   "outputs": [],
   "source": []
  },
  {
   "cell_type": "code",
   "execution_count": null,
   "metadata": {},
   "outputs": [],
   "source": []
  },
  {
   "cell_type": "code",
   "execution_count": null,
   "metadata": {},
   "outputs": [],
   "source": []
  },
  {
   "cell_type": "code",
   "execution_count": null,
   "metadata": {},
   "outputs": [],
   "source": []
  },
  {
   "cell_type": "code",
   "execution_count": 17,
   "metadata": {},
   "outputs": [
    {
     "name": "stdout",
     "output_type": "stream",
     "text": [
      "8\n",
      "2 4 4 4 8 6 5 9\n",
      "{'2': 1, '5': 1, '4': 3, '6': 1, '9': 1, '8': 1}\n",
      "3\n"
     ]
    }
   ],
   "source": [
    "s = input()\n",
    "a = raw_input().split(\" \")\n",
    "dic ={}\n",
    "count =0\n",
    "lis =[]\n",
    "for i in a:\n",
    "    if i in dic:\n",
    "        dic[i]+=1\n",
    "    else:\n",
    "        dic[i]=1\n",
    "print dic\n",
    "        \n",
    "for k,v in dic.items():\n",
    "    if v==1:\n",
    "        dic.pop(k)\n",
    "vdic = max(dic.values())\n",
    "print vdic\n",
    "    \n",
    "\n",
    "        \n",
    "        \n"
   ]
  },
  {
   "cell_type": "code",
   "execution_count": null,
   "metadata": {},
   "outputs": [],
   "source": [
    "\n",
    "var =max(dic.keys())\n",
    "var2 = dic[var]\n",
    "print var2"
   ]
  }
 ],
 "metadata": {
  "kernelspec": {
   "display_name": "Python 2",
   "language": "python",
   "name": "python2"
  },
  "language_info": {
   "codemirror_mode": {
    "name": "ipython",
    "version": 2
   },
   "file_extension": ".py",
   "mimetype": "text/x-python",
   "name": "python",
   "nbconvert_exporter": "python",
   "pygments_lexer": "ipython2",
   "version": "2.7.18"
  }
 },
 "nbformat": 4,
 "nbformat_minor": 2
}
