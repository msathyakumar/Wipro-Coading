{
 "cells": [
  {
   "cell_type": "code",
   "execution_count": 17,
   "metadata": {},
   "outputs": [
    {
     "name": "stdout",
     "output_type": "stream",
     "text": [
      "2\n",
      "3*3*3 \n",
      "3*0*3 \n",
      "3*1*3 \n",
      "3*2*3 \n",
      "4*4*4*4*4 \n",
      "4*4*0*4*4 \n",
      "4*4*1*4*4 \n",
      "4*4*2*4*4 \n",
      "4*4*3*4*4 \n",
      "4*4*4*4*4 \n",
      "5*5*5*5*5 \n",
      "5*5*0*5*5 \n",
      "5*5*1*5*5 \n",
      "5*5*2*5*5 \n",
      "5*5*3*5*5 \n",
      "5*5*4*5*5 \n",
      "6*6*6*6*6*6*6 \n",
      "6*6*6*0*6*6*6 \n",
      "6*6*6*1*6*6*6 \n",
      "6*6*6*2*6*6*6 \n",
      "6*6*6*3*6*6*6 \n",
      "6*6*6*4*6*6*6 \n",
      "6*6*6*5*6*6*6 \n",
      "6*6*6*6*6*6*6 \n"
     ]
    }
   ],
   "source": [
    "a = int(input())\n",
    "def pat(a):\n",
    "    b =a\n",
    "    if b%2==0:\n",
    "        b = b+1\n",
    "    mid = b//2\n",
    "    for i in range(b+1):\n",
    "        for j in range(b):\n",
    "            if i==0:\n",
    "                if i==0 and j==b-1:\n",
    "                    print(a,end=\" \")\n",
    "                else:\n",
    "                    print(a,end=\"*\")\n",
    "            else:\n",
    "                if j == mid:\n",
    "                    print(i-1,end=\"*\")\n",
    "                else:\n",
    "                    if j==b-1:\n",
    "                        print(a,end=\" \")\n",
    "                    else:\n",
    "                        print(a,end=\"*\")\n",
    "            \n",
    "        print(\"\")\n",
    "pat(3)\n",
    "pat(4)\n",
    "pat(5)\n",
    "pat(6)\n",
    "    "
   ]
  },
  {
   "cell_type": "code",
   "execution_count": null,
   "metadata": {},
   "outputs": [],
   "source": []
  },
  {
   "cell_type": "code",
   "execution_count": null,
   "metadata": {},
   "outputs": [],
   "source": []
  },
  {
   "cell_type": "code",
   "execution_count": 4,
   "metadata": {},
   "outputs": [],
   "source": [
    "def fun(n):\n",
    "    for i in range(1,(n+1)**2):\n",
    "        for j in range(1,n+1):\n",
    "            for i in range(1,n+1):\n",
    "                if j==i and i<=n+i:\n",
    "                    print(i,\"*\",end='')\n",
    "        print()\n",
    "        \n",
    "            \n",
    "            "
   ]
  },
  {
   "cell_type": "code",
   "execution_count": 6,
   "metadata": {},
   "outputs": [
    {
     "name": "stdout",
     "output_type": "stream",
     "text": [
      "1 *2 *3 *4 *5 *\n",
      "1 *2 *3 *4 *5 *\n",
      "1 *2 *3 *4 *5 *\n",
      "1 *2 *3 *4 *5 *\n",
      "1 *2 *3 *4 *5 *\n",
      "1 *2 *3 *4 *5 *\n",
      "1 *2 *3 *4 *5 *\n",
      "1 *2 *3 *4 *5 *\n",
      "1 *2 *3 *4 *5 *\n",
      "1 *2 *3 *4 *5 *\n",
      "1 *2 *3 *4 *5 *\n",
      "1 *2 *3 *4 *5 *\n",
      "1 *2 *3 *4 *5 *\n",
      "1 *2 *3 *4 *5 *\n",
      "1 *2 *3 *4 *5 *\n",
      "1 *2 *3 *4 *5 *\n",
      "1 *2 *3 *4 *5 *\n",
      "1 *2 *3 *4 *5 *\n",
      "1 *2 *3 *4 *5 *\n",
      "1 *2 *3 *4 *5 *\n",
      "1 *2 *3 *4 *5 *\n",
      "1 *2 *3 *4 *5 *\n",
      "1 *2 *3 *4 *5 *\n",
      "1 *2 *3 *4 *5 *\n",
      "1 *2 *3 *4 *5 *\n",
      "1 *2 *3 *4 *5 *\n",
      "1 *2 *3 *4 *5 *\n",
      "1 *2 *3 *4 *5 *\n",
      "1 *2 *3 *4 *5 *\n",
      "1 *2 *3 *4 *5 *\n",
      "1 *2 *3 *4 *5 *\n",
      "1 *2 *3 *4 *5 *\n",
      "1 *2 *3 *4 *5 *\n",
      "1 *2 *3 *4 *5 *\n",
      "1 *2 *3 *4 *5 *\n"
     ]
    }
   ],
   "source": [
    "fun(5)"
   ]
  },
  {
   "cell_type": "code",
   "execution_count": 8,
   "metadata": {},
   "outputs": [],
   "source": [
    "def func(n):\n",
    "    x = 1\n",
    "    y= 2*n\n",
    "    for i in range(1,n+1):\n",
    "        for j in range(1,n+1):\n",
    "            if i==1 or i==n:\n",
    "                print(x,end=\"*\")\n",
    "                x+=1\n",
    "            else:\n",
    "                print(y+j+i-2,end=\"*\")\n",
    "        print()\n",
    "        "
   ]
  },
  {
   "cell_type": "code",
   "execution_count": 9,
   "metadata": {},
   "outputs": [
    {
     "name": "stdout",
     "output_type": "stream",
     "text": [
      "1*2*3*4*\n",
      "9*10*11*12*\n",
      "10*11*12*13*\n",
      "5*6*7*8*\n"
     ]
    }
   ],
   "source": [
    "func(4)"
   ]
  },
  {
   "cell_type": "code",
   "execution_count": null,
   "metadata": {},
   "outputs": [],
   "source": []
  }
 ],
 "metadata": {
  "kernelspec": {
   "display_name": "Python 3",
   "language": "python",
   "name": "python3"
  },
  "language_info": {
   "codemirror_mode": {
    "name": "ipython",
    "version": 3
   },
   "file_extension": ".py",
   "mimetype": "text/x-python",
   "name": "python",
   "nbconvert_exporter": "python",
   "pygments_lexer": "ipython3",
   "version": "3.7.4"
  }
 },
 "nbformat": 4,
 "nbformat_minor": 2
}
