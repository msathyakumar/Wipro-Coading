{
 "cells": [
  {
   "cell_type": "code",
   "execution_count": null,
   "metadata": {},
   "outputs": [],
   "source": [
    "print \"sathya\""
   ]
  },
  {
   "cell_type": "code",
   "execution_count": null,
   "metadata": {},
   "outputs": [],
   "source": []
  },
  {
   "cell_type": "code",
   "execution_count": null,
   "metadata": {},
   "outputs": [],
   "source": [
    "a =[2,8,6,4]\n",
    "p=a\n",
    "q=[]\n",
    "for i in range(len(a)):\n",
    "    if i%2 !=0:\n",
    "        b = max(p)\n",
    "    else:\n",
    "        b = min(p)\n",
    "    q.append(b)\n",
    "    p.remove(p[0])\n",
    "q.pop()\n",
    "print q\n",
    "\n"
   ]
  },
  {
   "cell_type": "code",
   "execution_count": null,
   "metadata": {},
   "outputs": [],
   "source": [
    "import numpy\n"
   ]
  },
  {
   "cell_type": "code",
   "execution_count": null,
   "metadata": {},
   "outputs": [],
   "source": [
    "a = [int(i) for i in li]"
   ]
  },
  {
   "cell_type": "code",
   "execution_count": null,
   "metadata": {},
   "outputs": [],
   "source": []
  },
  {
   "cell_type": "code",
   "execution_count": null,
   "metadata": {},
   "outputs": [],
   "source": [
    "a = raw_input().split(\" \")\n",
    "b = a[2]\n",
    "b = list(a[0])\n",
    "print b\n",
    "for i in range(len(a)):\n",
    "    if c in b:\n",
    "        b.remove(c)\n",
    "        \n",
    "print len(b)\n"
   ]
  },
  {
   "cell_type": "code",
   "execution_count": null,
   "metadata": {},
   "outputs": [],
   "source": []
  },
  {
   "cell_type": "code",
   "execution_count": null,
   "metadata": {},
   "outputs": [],
   "source": [
    "a =[1,2,3,4]\n",
    "\n",
    "b.remove(2)\n",
    "print a"
   ]
  },
  {
   "cell_type": "code",
   "execution_count": null,
   "metadata": {},
   "outputs": [],
   "source": []
  },
  {
   "cell_type": "code",
   "execution_count": null,
   "metadata": {},
   "outputs": [],
   "source": [
    "n = input()\n",
    "li =[]\n",
    "\n",
    "for  i in range(n):\n",
    "    li.append(input())\n",
    "l = []\n",
    "l.extend(li)\n",
    "fi =[]\n",
    "\n",
    "for i in l:\n",
    "    p =[]\n",
    "    x = max(l)\n",
    "    p.append(x)\n",
    "    l.remove(x)\n",
    "    y = min(l)\n",
    "    p.append(y)\n",
    "    l.remove(y)\n",
    "    fi.append(p)\n",
    "for i in range(len(fi)):\n",
    "    for i in range(li)\n",
    "    \n",
    "    \n",
    "    "
   ]
  },
  {
   "cell_type": "markdown",
   "metadata": {},
   "source": [
    "###### "
   ]
  },
  {
   "cell_type": "code",
   "execution_count": null,
   "metadata": {},
   "outputs": [],
   "source": [
    "n = input()\n",
    "li =[]\n",
    "for  i in range(n):\n",
    "    li.append(input())\n",
    "for i in range(len(li)):\n",
    "    \n",
    "    \n",
    "    "
   ]
  },
  {
   "cell_type": "code",
   "execution_count": null,
   "metadata": {},
   "outputs": [],
   "source": []
  },
  {
   "cell_type": "code",
   "execution_count": null,
   "metadata": {},
   "outputs": [],
   "source": []
  },
  {
   "cell_type": "markdown",
   "metadata": {},
   "source": [
    "# output"
   ]
  },
  {
   "cell_type": "code",
   "execution_count": null,
   "metadata": {},
   "outputs": [],
   "source": [
    "n = input()\n",
    "li =[]\n",
    "k = raw_input().split(\" \")\n",
    "for i in k:\n",
    "    li.append(int(i))\n",
    "l=[]\n",
    "l.extend(li)\n",
    "fi =[]\n",
    "for i in l:\n",
    "    p =[]\n",
    "    x = max(l)\n",
    "    p.append(x)\n",
    "    l.remove(x)\n",
    "    y = min(l)\n",
    "    p.append(y)\n",
    "    l.remove(y)\n",
    "    fi.append(p)\n",
    "    \n",
    "for i in fi:\n",
    "    for j in i:\n",
    "        print j,\n",
    "    print\n",
    "print max(l),min(l)\n",
    "\n",
    "\n",
    "    \n",
    "    \n",
    "    "
   ]
  },
  {
   "cell_type": "markdown",
   "metadata": {},
   "source": [
    "##### "
   ]
  },
  {
   "cell_type": "code",
   "execution_count": null,
   "metadata": {},
   "outputs": [],
   "source": []
  },
  {
   "cell_type": "code",
   "execution_count": null,
   "metadata": {},
   "outputs": [],
   "source": []
  },
  {
   "cell_type": "code",
   "execution_count": null,
   "metadata": {},
   "outputs": [],
   "source": []
  },
  {
   "cell_type": "code",
   "execution_count": null,
   "metadata": {},
   "outputs": [],
   "source": []
  },
  {
   "cell_type": "code",
   "execution_count": null,
   "metadata": {},
   "outputs": [],
   "source": [
    "n = input()\n",
    "li =[]\n",
    "a = raw_input().split(\" \")\n",
    "li2 = []\n",
    "for i in a:\n",
    "    li2.append(int(i))\n",
    "\n",
    "l = []\n",
    "l.extend(li2)\n",
    "fi =[]\n",
    "\n",
    "for i in l:\n",
    "    p=\"\"\n",
    "    x = max(l)\n",
    "    p+=str(x)\n",
    "    l.remove(x)\n",
    "    y = min(l)\n",
    "    p+=\" \"+str(y)\n",
    "    l.remove(y)\n",
    "    fi.append(p)\n",
    "\n",
    "for i in fi:\n",
    "    print i\n",
    "        "
   ]
  },
  {
   "cell_type": "markdown",
   "metadata": {},
   "source": [
    "### n = input()\n",
    "li =[]\n",
    "a = raw_input().split(\" \")\n",
    "\n",
    "print a"
   ]
  },
  {
   "cell_type": "code",
   "execution_count": null,
   "metadata": {},
   "outputs": [],
   "source": []
  },
  {
   "cell_type": "code",
   "execution_count": null,
   "metadata": {},
   "outputs": [],
   "source": []
  },
  {
   "cell_type": "code",
   "execution_count": null,
   "metadata": {},
   "outputs": [],
   "source": [
    "\n",
    "n = input()\n",
    "li =[]\n",
    "a = raw_input().split(\" \")\n",
    "li2 = []\n",
    "for i in a:\n",
    "    li2.append(int(i))\n",
    "\n",
    "l = []\n",
    "l.extend(li2)\n",
    "fi =[]\n",
    "\n",
    "for i in l:\n",
    "    p=\"\"\n",
    "    x = max(l)\n",
    "    p+=str(x)\n",
    "    l.remove(x)\n",
    "    y = min(l)\n",
    "    p+=\" \"+str(y)\n",
    "    l.remove(y)\n",
    "    fi.append(p)\n",
    "\n",
    "for i in fi:\n",
    "    print i\n",
    "        "
   ]
  },
  {
   "cell_type": "markdown",
   "metadata": {},
   "source": []
  },
  {
   "cell_type": "code",
   "execution_count": null,
   "metadata": {},
   "outputs": [],
   "source": []
  },
  {
   "cell_type": "code",
   "execution_count": null,
   "metadata": {},
   "outputs": [],
   "source": []
  },
  {
   "cell_type": "code",
   "execution_count": null,
   "metadata": {},
   "outputs": [],
   "source": [
    "\n",
    "n = input()\n",
    "li =[]\n",
    "a = raw_input().split(\" \")\n",
    "li2 = []\n",
    "for i in a:\n",
    "    li2.append(int(i))\n",
    "\n",
    "l = []\n",
    "l.extend(li2)\n",
    "fi =[]\n",
    "\n",
    "for i in l:\n",
    "    p=\"\"\n",
    "    x = max(l)\n",
    "    p+=str(x)\n",
    "    l.remove(x)\n",
    "    y = min(l)\n",
    "    p+=\" \"+str(y)\n",
    "    l.remove(y)\n",
    "    fi.append(p)\n",
    "\n",
    "for i in fi:\n",
    "    print i\n",
    "        "
   ]
  },
  {
   "cell_type": "code",
   "execution_count": null,
   "metadata": {},
   "outputs": [],
   "source": []
  },
  {
   "cell_type": "code",
   "execution_count": null,
   "metadata": {},
   "outputs": [],
   "source": []
  },
  {
   "cell_type": "code",
   "execution_count": null,
   "metadata": {},
   "outputs": [],
   "source": [
    "n = input()\n",
    "li =[]\n",
    "for  i in range(n):\n",
    "    li.append(input())\n",
    "l = li.copy()\n",
    "fi =[]\n",
    "length = len(li)\n",
    "while length>0:\n",
    "    p =[]\n",
    "    x = max(l)\n",
    "    p.append(x)\n",
    "    l.remove(x)\n",
    "    y = min(l)\n",
    "    fi.append(p)\n",
    "    l.remove(y)\n",
    "    fi.append(p)\n",
    "for i in fi:\n",
    "    print(fi)\n",
    "    \n",
    "    \n",
    "    "
   ]
  },
  {
   "cell_type": "code",
   "execution_count": null,
   "metadata": {},
   "outputs": [],
   "source": []
  },
  {
   "cell_type": "code",
   "execution_count": null,
   "metadata": {},
   "outputs": [],
   "source": []
  },
  {
   "cell_type": "code",
   "execution_count": null,
   "metadata": {},
   "outputs": [],
   "source": []
  },
  {
   "cell_type": "code",
   "execution_count": null,
   "metadata": {},
   "outputs": [],
   "source": [
    "n = input()\n",
    "li =[]\n",
    "a = raw_input().split(\" \")\n",
    "li2 = []\n",
    "for i in a:\n",
    "    li2.append(int(i))\n",
    "\n",
    "l = []\n",
    "l.extend(li2)\n",
    "fi =[]"
   ]
  },
  {
   "cell_type": "code",
   "execution_count": null,
   "metadata": {},
   "outputs": [],
   "source": []
  },
  {
   "cell_type": "code",
   "execution_count": null,
   "metadata": {},
   "outputs": [],
   "source": []
  },
  {
   "cell_type": "code",
   "execution_count": null,
   "metadata": {},
   "outputs": [],
   "source": []
  },
  {
   "cell_type": "code",
   "execution_count": null,
   "metadata": {},
   "outputs": [],
   "source": [
    "n = input()\n",
    "li =[]\n",
    "a = raw_input().split(\" \")\n",
    "li2 = []\n",
    "for i in a:\n",
    "    li2.append(int(i))\n",
    "\n",
    "l = []\n",
    "l.extend(li2)\n",
    "fi =[]\n",
    "\n",
    "\n",
    "for i in l:\n",
    "    p =[]\n",
    "    x = max(l)\n",
    "    p.append(x)\n",
    "    l.remove(x)\n",
    "    y = min(l)\n",
    "    fi.append(p)\n",
    "    l.remove(y)\n",
    "    fi.append(p)\n",
    "print(fi)"
   ]
  },
  {
   "cell_type": "code",
   "execution_count": null,
   "metadata": {},
   "outputs": [],
   "source": [
    "st=raw_input()\n",
    "word=st.split(\" \")\n",
    "print(len(word[-1]))"
   ]
  },
  {
   "cell_type": "code",
   "execution_count": null,
   "metadata": {},
   "outputs": [],
   "source": [
    "ar=raw_input().split(\" \")\n",
    "\n",
    "l=[]\n",
    "for i in ar:\n",
    "    l.append(int(i))\n",
    "l.sort(reverse=False)\n",
    "sum1 = l[-1]+l[-2]\n",
    "print sum1"
   ]
  },
  {
   "cell_type": "code",
   "execution_count": null,
   "metadata": {},
   "outputs": [],
   "source": [
    "print sum1"
   ]
  },
  {
   "cell_type": "code",
   "execution_count": null,
   "metadata": {},
   "outputs": [],
   "source": [
    "ar=raw_input().split(\" \")\n",
    "ar.sort(reverse=False)\n",
    "sum1 = int(len(ar))+int(len(ar)-1)\n",
    "print sum1"
   ]
  },
  {
   "cell_type": "code",
   "execution_count": null,
   "metadata": {},
   "outputs": [],
   "source": [
    "li=[2,3,4,1,6,7,8]\n",
    "s=0\n",
    "def prime(n):\n",
    "    flag=0\n",
    "    \n",
    "    for i in range(2,n):\n",
    "        if n%i==0:\n",
    "            flag=1\n",
    "            break\n",
    "            \n",
    "    if flag==0:\n",
    "        return 1\n",
    "    else:\n",
    "        return 0\n",
    "for i in li:\n",
    "    if prime(i)==1:\n",
    "        s+=i\n",
    "print s"
   ]
  },
  {
   "cell_type": "code",
   "execution_count": null,
   "metadata": {},
   "outputs": [],
   "source": [
    "prime(5)"
   ]
  },
  {
   "cell_type": "code",
   "execution_count": null,
   "metadata": {},
   "outputs": [],
   "source": [
    "a = [1,2,3,5,4,6]\n",
    "b=2\n",
    "c=5\n",
    "d=a[c::-1]\n",
    "e =a[:b]\n",
    "e.extend(d)\n",
    "print(e)\n",
    "print(d)\n"
   ]
  },
  {
   "cell_type": "code",
   "execution_count": null,
   "metadata": {},
   "outputs": [],
   "source": [
    "n = input()\n",
    "a = raw_input().split(\" \")\n",
    "b = raw_input().split(\" \")\n",
    "a1,b1=[],[]\n",
    "for i in a:\n",
    "    a1.append(int(i))\n",
    "for j in b:\n",
    "    b1.append(int(j))\n",
    "x,y,c,d=b1[0],b1[1],[],[]\n",
    "\n",
    "for i in range(len(a)):\n",
    "    if i<x:\n",
    "        c.append(a1[i])\n",
    "    else:\n",
    "        d.append(a1[i])\n",
    "d.reverse()\n",
    "c.extend(d)\n",
    "for i in c:\n",
    "    print i,\n",
    "        \n",
    "\n"
   ]
  },
  {
   "cell_type": "markdown",
   "metadata": {},
   "source": []
  },
  {
   "cell_type": "code",
   "execution_count": null,
   "metadata": {},
   "outputs": [],
   "source": []
  },
  {
   "cell_type": "code",
   "execution_count": null,
   "metadata": {},
   "outputs": [],
   "source": [
    "a=\"dimpll\""
   ]
  },
  {
   "cell_type": "code",
   "execution_count": null,
   "metadata": {},
   "outputs": [],
   "source": []
  },
  {
   "cell_type": "code",
   "execution_count": null,
   "metadata": {},
   "outputs": [],
   "source": [
    "a = raw_input()\n",
    "vo = \"aeiouAEIOU\"\n",
    "count = 0\n",
    "for i in range(len(vo)-1):\n",
    "    if a[i+1]!=None:\n",
    "        if (a[i] in vo) and (a[i+1] not in vo):\n",
    "            count +=1\n",
    "print count\n",
    "        "
   ]
  },
  {
   "cell_type": "code",
   "execution_count": null,
   "metadata": {},
   "outputs": [],
   "source": []
  },
  {
   "cell_type": "code",
   "execution_count": null,
   "metadata": {},
   "outputs": [],
   "source": [
    "st=raw_input()\n",
    "count =0\n",
    "for i in st:\n",
    "    if i.isdigit():\n",
    "        count+=1\n",
    "        print i\n",
    "print count\n"
   ]
  },
  {
   "cell_type": "code",
   "execution_count": null,
   "metadata": {},
   "outputs": [],
   "source": []
  },
  {
   "cell_type": "code",
   "execution_count": null,
   "metadata": {},
   "outputs": [],
   "source": [
    "n = raw_input().split(\" \")\n",
    "a ="
   ]
  },
  {
   "cell_type": "code",
   "execution_count": null,
   "metadata": {},
   "outputs": [],
   "source": []
  },
  {
   "cell_type": "code",
   "execution_count": null,
   "metadata": {},
   "outputs": [],
   "source": []
  },
  {
   "cell_type": "code",
   "execution_count": null,
   "metadata": {},
   "outputs": [],
   "source": []
  },
  {
   "cell_type": "code",
   "execution_count": null,
   "metadata": {},
   "outputs": [],
   "source": [
    "a = raw_input()\n",
    "count =0\n",
    "for i in a:\n",
    "    if i.isdigit()==True:\n",
    "        count +=1\n",
    "print count"
   ]
  },
  {
   "cell_type": "code",
   "execution_count": null,
   "metadata": {},
   "outputs": [],
   "source": [
    "n=input()\n",
    "li=list(map(int,input().split()))\n",
    "count={}\n",
    "for i in li:\n",
    "    if i in count:\n",
    "        count[i]+=1\n",
    "    else:\n",
    "        count[i]=1\n",
    "print max(count.value())"
   ]
  },
  {
   "cell_type": "code",
   "execution_count": 12,
   "metadata": {},
   "outputs": [
    {
     "name": "stdout",
     "output_type": "stream",
     "text": [
      "5 3\n",
      "45 67 89 32 45\n",
      "45\n"
     ]
    }
   ],
   "source": [
    "n=raw_input().split(\" \")\n",
    "val,a=n[0],int(n[1])\n",
    "l=[]\n",
    "li=raw_input().split(\" \")\n",
    "for i in li:\n",
    "    l.append(int(i))\n",
    "l.sort(reverse=True)\n",
    "print(l[a-1])"
   ]
  },
  {
   "cell_type": "code",
   "execution_count": null,
   "metadata": {},
   "outputs": [],
   "source": []
  },
  {
   "cell_type": "code",
   "execution_count": null,
   "metadata": {},
   "outputs": [],
   "source": []
  },
  {
   "cell_type": "code",
   "execution_count": null,
   "metadata": {},
   "outputs": [],
   "source": []
  },
  {
   "cell_type": "code",
   "execution_count": 17,
   "metadata": {},
   "outputs": [
    {
     "name": "stdout",
     "output_type": "stream",
     "text": [
      "aesSE AWyhrdh\n",
      "AESse awYHRDH\n"
     ]
    }
   ],
   "source": [
    "a = raw_input()\n",
    "b =\"\"\n",
    "for i in a:\n",
    "    if i.islower()==True:\n",
    "        b +=i.upper()\n",
    "    elif i.isupper()==True:\n",
    "        b +=i.lower()\n",
    "    else:\n",
    "        b +=i\n",
    "print b\n",
    "        "
   ]
  },
  {
   "cell_type": "code",
   "execution_count": 44,
   "metadata": {},
   "outputs": [
    {
     "name": "stdout",
     "output_type": "stream",
     "text": [
      "5\n",
      "3 2 6 5 4\n"
     ]
    },
    {
     "ename": "IndexError",
     "evalue": "list index out of range",
     "output_type": "error",
     "traceback": [
      "\u001b[1;31m---------------------------------------------------------------------------\u001b[0m",
      "\u001b[1;31mIndexError\u001b[0m                                Traceback (most recent call last)",
      "\u001b[1;32m<ipython-input-44-7bb3ef1e5e7a>\u001b[0m in \u001b[0;36m<module>\u001b[1;34m()\u001b[0m\n\u001b[0;32m      3\u001b[0m \u001b[1;32mfor\u001b[0m \u001b[0mi\u001b[0m \u001b[1;32min\u001b[0m \u001b[0mrange\u001b[0m\u001b[1;33m(\u001b[0m\u001b[0mlen\u001b[0m\u001b[1;33m(\u001b[0m\u001b[0ml\u001b[0m\u001b[1;33m)\u001b[0m\u001b[1;33m)\u001b[0m\u001b[1;33m:\u001b[0m\u001b[1;33m\u001b[0m\u001b[0m\n\u001b[0;32m      4\u001b[0m     \u001b[1;32mif\u001b[0m\u001b[1;33m(\u001b[0m\u001b[1;32mnot\u001b[0m\u001b[1;33m(\u001b[0m\u001b[0mlen\u001b[0m\u001b[1;33m(\u001b[0m\u001b[0mli\u001b[0m\u001b[1;33m)\u001b[0m\u001b[1;33m)\u001b[0m\u001b[1;33m<\u001b[0m\u001b[1;33m(\u001b[0m\u001b[0mi\u001b[0m\u001b[1;33m+\u001b[0m\u001b[1;36m1\u001b[0m\u001b[1;33m)\u001b[0m\u001b[1;33m)\u001b[0m\u001b[1;33m:\u001b[0m\u001b[1;33m\u001b[0m\u001b[0m\n\u001b[1;32m----> 5\u001b[1;33m         \u001b[1;32mif\u001b[0m\u001b[1;33m(\u001b[0m\u001b[0mli\u001b[0m\u001b[1;33m[\u001b[0m\u001b[0mi\u001b[0m\u001b[1;33m]\u001b[0m\u001b[1;33m<\u001b[0m\u001b[0mli\u001b[0m\u001b[1;33m[\u001b[0m\u001b[0mi\u001b[0m\u001b[1;33m+\u001b[0m\u001b[1;36m1\u001b[0m\u001b[1;33m]\u001b[0m\u001b[1;33m)\u001b[0m\u001b[1;33m:\u001b[0m\u001b[1;33m\u001b[0m\u001b[0m\n\u001b[0m\u001b[0;32m      6\u001b[0m \u001b[1;33m\u001b[0m\u001b[0m\n\u001b[0;32m      7\u001b[0m             \u001b[0mli\u001b[0m\u001b[1;33m.\u001b[0m\u001b[0mremove\u001b[0m\u001b[1;33m(\u001b[0m\u001b[0mli\u001b[0m\u001b[1;33m[\u001b[0m\u001b[0mi\u001b[0m\u001b[1;33m+\u001b[0m\u001b[1;36m1\u001b[0m\u001b[1;33m]\u001b[0m\u001b[1;33m)\u001b[0m\u001b[1;33m\u001b[0m\u001b[0m\n",
      "\u001b[1;31mIndexError\u001b[0m: list index out of range"
     ]
    }
   ],
   "source": [
    "n=input()\n",
    "li=list(map(int,raw_input().strip().split()))\n",
    "for i in range(len(l)):\n",
    "    if(not(len(li))<(i+1)):\n",
    "        if(li[i]<li[i+1]):\n",
    "        \n",
    "            li.remove(li[i+1])\n",
    "            i=i-1\n",
    "print li\n",
    "            \n",
    "\n"
   ]
  },
  {
   "cell_type": "code",
   "execution_count": 19,
   "metadata": {},
   "outputs": [
    {
     "data": {
      "text/plain": [
       "1"
      ]
     },
     "execution_count": 19,
     "metadata": {},
     "output_type": "execute_result"
    }
   ],
   "source": [
    "mid"
   ]
  },
  {
   "cell_type": "code",
   "execution_count": 32,
   "metadata": {},
   "outputs": [],
   "source": [
    "li=[2,3,4]"
   ]
  },
  {
   "cell_type": "code",
   "execution_count": 33,
   "metadata": {},
   "outputs": [],
   "source": [
    "li.remove(3)"
   ]
  },
  {
   "cell_type": "code",
   "execution_count": 34,
   "metadata": {},
   "outputs": [
    {
     "data": {
      "text/plain": [
       "[2, 4]"
      ]
     },
     "execution_count": 34,
     "metadata": {},
     "output_type": "execute_result"
    }
   ],
   "source": [
    "li"
   ]
  },
  {
   "cell_type": "code",
   "execution_count": 53,
   "metadata": {},
   "outputs": [
    {
     "name": "stdout",
     "output_type": "stream",
     "text": [
      "4\n",
      "3 6 12 15 16 17\n",
      "3 12 16\n"
     ]
    }
   ],
   "source": [
    "n=input()\n",
    "li=list(map(int,raw_input().strip().split()))\n",
    "for i in range(len(li)-1):\n",
    "    for j in range(i+1,len(li)-1):\n",
    "        if li[i]<li[j]:\n",
    "            li.pop(j)\n",
    "            i=i-1\n",
    "            break\n",
    "if li[-1]>li[-2]:\n",
    "    li.pop(-1)\n",
    "for i in li:\n",
    "    print i,"
   ]
  },
  {
   "cell_type": "code",
   "execution_count": null,
   "metadata": {},
   "outputs": [],
   "source": []
  },
  {
   "cell_type": "code",
   "execution_count": null,
   "metadata": {},
   "outputs": [],
   "source": []
  },
  {
   "cell_type": "code",
   "execution_count": null,
   "metadata": {},
   "outputs": [],
   "source": []
  },
  {
   "cell_type": "code",
   "execution_count": null,
   "metadata": {},
   "outputs": [],
   "source": []
  },
  {
   "cell_type": "code",
   "execution_count": 37,
   "metadata": {},
   "outputs": [
    {
     "ename": "IndexError",
     "evalue": "list index out of range",
     "output_type": "error",
     "traceback": [
      "\u001b[1;31m---------------------------------------------------------------------------\u001b[0m",
      "\u001b[1;31mIndexError\u001b[0m                                Traceback (most recent call last)",
      "\u001b[1;32m<ipython-input-37-b280e820baf4>\u001b[0m in \u001b[0;36m<module>\u001b[1;34m()\u001b[0m\n\u001b[0;32m      2\u001b[0m \u001b[0ma\u001b[0m \u001b[1;33m=\u001b[0m\u001b[1;33m[\u001b[0m\u001b[1;36m3\u001b[0m\u001b[1;33m,\u001b[0m\u001b[1;36m2\u001b[0m\u001b[1;33m,\u001b[0m\u001b[1;36m4\u001b[0m\u001b[1;33m,\u001b[0m\u001b[1;36m5\u001b[0m\u001b[1;33m,\u001b[0m\u001b[1;36m6\u001b[0m\u001b[1;33m]\u001b[0m\u001b[1;33m\u001b[0m\u001b[0m\n\u001b[0;32m      3\u001b[0m \u001b[1;32mfor\u001b[0m \u001b[0mi\u001b[0m \u001b[1;32min\u001b[0m \u001b[0mrange\u001b[0m\u001b[1;33m(\u001b[0m\u001b[0mlen\u001b[0m\u001b[1;33m(\u001b[0m\u001b[0ma\u001b[0m\u001b[1;33m)\u001b[0m\u001b[1;33m)\u001b[0m\u001b[1;33m:\u001b[0m\u001b[1;33m\u001b[0m\u001b[0m\n\u001b[1;32m----> 4\u001b[1;33m     \u001b[1;32mif\u001b[0m \u001b[1;33m(\u001b[0m\u001b[0ma\u001b[0m\u001b[1;33m[\u001b[0m\u001b[0mi\u001b[0m\u001b[1;33m+\u001b[0m\u001b[1;36m1\u001b[0m\u001b[1;33m]\u001b[0m\u001b[1;33m!=\u001b[0m \u001b[0mNone\u001b[0m\u001b[1;33m)\u001b[0m\u001b[1;33m:\u001b[0m\u001b[1;33m\u001b[0m\u001b[0m\n\u001b[0m\u001b[0;32m      5\u001b[0m         \u001b[1;32mif\u001b[0m \u001b[0ma\u001b[0m\u001b[1;33m[\u001b[0m\u001b[0mi\u001b[0m\u001b[1;33m]\u001b[0m\u001b[1;33m<\u001b[0m\u001b[0ma\u001b[0m\u001b[1;33m[\u001b[0m\u001b[0mi\u001b[0m\u001b[1;33m+\u001b[0m\u001b[1;36m1\u001b[0m\u001b[1;33m]\u001b[0m\u001b[1;33m:\u001b[0m\u001b[1;33m\u001b[0m\u001b[0m\n\u001b[0;32m      6\u001b[0m             \u001b[0ma\u001b[0m\u001b[1;33m.\u001b[0m\u001b[0mremove\u001b[0m\u001b[1;33m(\u001b[0m\u001b[0ma\u001b[0m\u001b[1;33m[\u001b[0m\u001b[0mi\u001b[0m\u001b[1;33m+\u001b[0m\u001b[1;36m1\u001b[0m\u001b[1;33m]\u001b[0m\u001b[1;33m)\u001b[0m\u001b[1;33m\u001b[0m\u001b[0m\n",
      "\u001b[1;31mIndexError\u001b[0m: list index out of range"
     ]
    }
   ],
   "source": [
    "b =[3,2,4,5,6]\n",
    "a =[3,2,4,5,6]\n",
    "for i in range(len(a)):\n",
    "    if (a[i+1]!= None):\n",
    "        if a[i]<a[i+1]:\n",
    "            a.remove(a[i+1])\n",
    "for i in a:\n",
    "    print i,"
   ]
  },
  {
   "cell_type": "code",
   "execution_count": null,
   "metadata": {},
   "outputs": [],
   "source": []
  }
 ],
 "metadata": {
  "kernelspec": {
   "display_name": "Python 2",
   "language": "python",
   "name": "python2"
  },
  "language_info": {
   "codemirror_mode": {
    "name": "ipython",
    "version": 2
   },
   "file_extension": ".py",
   "mimetype": "text/x-python",
   "name": "python",
   "nbconvert_exporter": "python",
   "pygments_lexer": "ipython2",
   "version": "2.7.18"
  }
 },
 "nbformat": 4,
 "nbformat_minor": 2
}
