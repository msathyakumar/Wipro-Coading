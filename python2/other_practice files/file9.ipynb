{
 "cells": [
  {
   "cell_type": "code",
   "execution_count": 3,
   "metadata": {},
   "outputs": [
    {
     "name": "stdout",
     "output_type": "stream",
     "text": [
      "rahu231l\n",
      "3\n"
     ]
    }
   ],
   "source": [
    "st=raw_input()\n",
    "count =0\n",
    "for i in st:\n",
    "    if i.isdigit():\n",
    "        count+=1\n",
    "print count"
   ]
  },
  {
   "cell_type": "code",
   "execution_count": null,
   "metadata": {},
   "outputs": [],
   "source": [
    "n = input()\n",
    "li =[]\n",
    "k = raw_input().split(\" \")\n",
    "for i in k:\n",
    "    li.append(int(i))\n",
    "l=[]\n",
    "l.extend(li)\n",
    "fi =[]\n",
    "for i in l:\n",
    "    p =[]\n",
    "    x = max(l)\n",
    "    p.append(x)\n",
    "    l.remove(x)\n",
    "    y = min(l)\n",
    "    p.append(y)\n",
    "    l.remove(y)\n",
    "    fi.append(p)\n",
    "    \n",
    "for i in fi:\n",
    "    for j in i:\n",
    "        print j,\n",
    "    print\n",
    "print max(l),min(l)\n",
    "\n",
    "\n",
    "    \n",
    "    \n",
    "    "
   ]
  },
  {
   "cell_type": "code",
   "execution_count": null,
   "metadata": {},
   "outputs": [],
   "source": []
  },
  {
   "cell_type": "code",
   "execution_count": null,
   "metadata": {},
   "outputs": [],
   "source": []
  },
  {
   "cell_type": "code",
   "execution_count": null,
   "metadata": {},
   "outputs": [],
   "source": []
  },
  {
   "cell_type": "code",
   "execution_count": null,
   "metadata": {},
   "outputs": [],
   "source": [
    "a = raw_input().split(\" \")\n",
    "n =int(a[1])\n",
    "l=[]\n",
    "for i in a[0]:\n",
    "    l.append(i)\n",
    "    \n",
    "print(i)"
   ]
  },
  {
   "cell_type": "code",
   "execution_count": null,
   "metadata": {},
   "outputs": [],
   "source": []
  },
  {
   "cell_type": "code",
   "execution_count": null,
   "metadata": {},
   "outputs": [],
   "source": [
    "st=raw_input()\n",
    "count =0\n",
    "for i in st:\n",
    "    if not(i.isalnum()) and not(\" \"):\n",
    "        count+=1\n",
    "print count"
   ]
  },
  {
   "cell_type": "code",
   "execution_count": null,
   "metadata": {},
   "outputs": [],
   "source": [
    "st=raw_input().split(\" \")\n",
    "n=st[1]\n",
    "l=[]\n",
    "for i in a[0]:\n",
    "    l.append(int(i))\n"
   ]
  },
  {
   "cell_type": "code",
   "execution_count": 2,
   "metadata": {},
   "outputs": [
    {
     "name": "stdout",
     "output_type": "stream",
     "text": [
      "2 4 3 6 4\n",
      "[2, 4, 3, 6, 4]\n"
     ]
    }
   ],
   "source": [
    "st=raw_input().split(\" \")\n",
    "l=[]\n",
    "for i in st:\n",
    "    l.append(int(i))\n",
    "for i in range(len(l)):\n",
    "    if l[i]==l[i+1]:\n",
    "        count\n",
    "print(l)\n",
    "    "
   ]
  },
  {
   "cell_type": "code",
   "execution_count": null,
   "metadata": {},
   "outputs": [],
   "source": []
  }
 ],
 "metadata": {
  "kernelspec": {
   "display_name": "Python 2",
   "language": "python",
   "name": "python2"
  },
  "language_info": {
   "codemirror_mode": {
    "name": "ipython",
    "version": 2
   },
   "file_extension": ".py",
   "mimetype": "text/x-python",
   "name": "python",
   "nbconvert_exporter": "python",
   "pygments_lexer": "ipython2",
   "version": "2.7.18"
  }
 },
 "nbformat": 4,
 "nbformat_minor": 2
}
